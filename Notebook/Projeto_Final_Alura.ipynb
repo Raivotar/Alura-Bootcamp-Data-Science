{
  "nbformat": 4,
  "nbformat_minor": 0,
  "metadata": {
    "colab": {
      "name": "Projeto_Final_Alura.ipynb",
      "provenance": [],
      "collapsed_sections": [],
      "authorship_tag": "ABX9TyMhlcKwcqQ3TjSRO2qVwzbc",
      "include_colab_link": true
    },
    "kernelspec": {
      "name": "python3",
      "display_name": "Python 3"
    },
    "language_info": {
      "name": "python"
    }
  },
  "cells": [
    {
      "cell_type": "markdown",
      "metadata": {
        "id": "view-in-github",
        "colab_type": "text"
      },
      "source": [
        "<a href=\"https://colab.research.google.com/github/Raivotar/Alura-Bootcamp-Data-Science/blob/main/Notebook/Projeto_Final_Alura.ipynb\" target=\"_parent\"><img src=\"https://colab.research.google.com/assets/colab-badge.svg\" alt=\"Open In Colab\"/></a>"
      ]
    },
    {
      "cell_type": "markdown",
      "source": [
        "# Projeto Final Bootcamp DS Alura"
      ],
      "metadata": {
        "id": "USksmCTOs9eD"
      }
    },
    {
      "cell_type": "markdown",
      "source": [
        "## Imports"
      ],
      "metadata": {
        "id": "ncru9uPutCyD"
      }
    },
    {
      "cell_type": "code",
      "execution_count": 1,
      "metadata": {
        "id": "xp-SXdZfB3it"
      },
      "outputs": [],
      "source": [
        "import pandas as pd\n",
        "from sklearn.linear_model import LogisticRegression\n",
        "from sklearn.model_selection import train_test_split\n",
        "from sklearn.metrics import accuracy_score\n",
        "from sklearn import preprocessing\n",
        "import numpy as np\n",
        "\n",
        "from sklearn.compose import ColumnTransformer\n",
        "from sklearn.pipeline import Pipeline\n",
        "from sklearn.impute import SimpleImputer\n",
        "from sklearn.preprocessing import OneHotEncoder\n",
        "from sklearn.model_selection import cross_val_score\n",
        "from sklearn.ensemble import RandomForestClassifier\n",
        "from sklearn.metrics import confusion_matrix, ConfusionMatrixDisplay\n",
        "import matplotlib.pyplot as plt\n",
        "from sklearn.metrics import classification_report\n",
        "from sklearn.model_selection import StratifiedKFold\n",
        "from sklearn.naive_bayes import GaussianNB\n",
        "from sklearn import neighbors"
      ]
    },
    {
      "cell_type": "markdown",
      "source": [
        "## Tratamento dos dados"
      ],
      "metadata": {
        "id": "8bO8pQ-MtHMM"
      }
    },
    {
      "cell_type": "code",
      "source": [
        "df = pd.read_excel(\"Sirio_Libanes.xlsx\")"
      ],
      "metadata": {
        "id": "C_8-U6ZbtGJi"
      },
      "execution_count": 2,
      "outputs": []
    },
    {
      "cell_type": "markdown",
      "source": [
        "### Agrupando os dados pelos pacientes e guardando o valor máximo para as variáveis"
      ],
      "metadata": {
        "id": "vlk9bqyItKmW"
      }
    },
    {
      "cell_type": "code",
      "source": [
        "df_group = (df.groupby(\"PATIENT_VISIT_IDENTIFIER\").max()).reset_index()\n",
        "df_group.isna().sum().sum()"
      ],
      "metadata": {
        "colab": {
          "base_uri": "https://localhost:8080/"
        },
        "id": "pQgu5Okul_1k",
        "outputId": "3c0190a4-12bd-4bad-f0e4-495e4b9ed6d7"
      },
      "execution_count": 3,
      "outputs": [
        {
          "output_type": "execute_result",
          "data": {
            "text/plain": [
              "405"
            ]
          },
          "metadata": {},
          "execution_count": 3
        }
      ]
    },
    {
      "cell_type": "markdown",
      "source": [
        "### Função que retira as variáveis com alto grau de correlação, após alguns testes, foi observado que essa função impacta negativamente o resultado do modelo e foi deixada de lado"
      ],
      "metadata": {
        "id": "PoAQpNCmuCgS"
      }
    },
    {
      "cell_type": "code",
      "source": [
        "def remove_corr(df_group, valor_corte):\n",
        "  \"\"\"\n",
        "  Função responsavel por indentificar variáveis com alto\n",
        "  grau de correlação e eliminar uma delas\n",
        "  \"\"\"\n",
        "  matrix_corr = df.iloc[:,4:-2].corr().abs()\n",
        "  matrix_upper = matrix_corr.where(np.triu(np.ones(matrix_corr.shape), k=1).astype(bool))\n",
        "  excluir = [coluna for coluna in matrix_upper.columns if any(matrix_upper[coluna] > valor_corte)]\n",
        "  return df.drop(excluir, axis=1)\n",
        "\n",
        "df_no_corr = remove_corr(df, 0.95)"
      ],
      "metadata": {
        "id": "-ZZ54pHHtCH2"
      },
      "execution_count": 4,
      "outputs": []
    },
    {
      "cell_type": "markdown",
      "source": [
        "### Definição do target a ser predito e divisão do dataset em treino e validação"
      ],
      "metadata": {
        "id": "0QUain7cuqZq"
      }
    },
    {
      "cell_type": "code",
      "source": [
        "X = df_group.drop(\"ICU\", axis=1)\n",
        "y = df_group[\"ICU\"]\n",
        "\n",
        "X_train, X_valid, y_train, y_val = train_test_split(X, y, test_size=0.20, random_state=42, stratify=y)"
      ],
      "metadata": {
        "id": "AtNFvtsrtOwD"
      },
      "execution_count": 5,
      "outputs": []
    },
    {
      "cell_type": "markdown",
      "source": [
        "### Obtenção das variáveis continuas"
      ],
      "metadata": {
        "id": "iK2kxTtZu2y1"
      }
    },
    {
      "cell_type": "code",
      "source": [
        "num_cols = X_train.describe().columns\n",
        "num_cols"
      ],
      "metadata": {
        "colab": {
          "base_uri": "https://localhost:8080/"
        },
        "id": "6Hq_KmRJPT33",
        "outputId": "197af5f6-317f-4a9c-88a8-79025c45003c"
      },
      "execution_count": 6,
      "outputs": [
        {
          "output_type": "execute_result",
          "data": {
            "text/plain": [
              "Index(['PATIENT_VISIT_IDENTIFIER', 'AGE_ABOVE65', 'GENDER',\n",
              "       'DISEASE GROUPING 1', 'DISEASE GROUPING 2', 'DISEASE GROUPING 3',\n",
              "       'DISEASE GROUPING 4', 'DISEASE GROUPING 5', 'DISEASE GROUPING 6', 'HTN',\n",
              "       ...\n",
              "       'HEART_RATE_DIFF', 'RESPIRATORY_RATE_DIFF', 'TEMPERATURE_DIFF',\n",
              "       'OXYGEN_SATURATION_DIFF', 'BLOODPRESSURE_DIASTOLIC_DIFF_REL',\n",
              "       'BLOODPRESSURE_SISTOLIC_DIFF_REL', 'HEART_RATE_DIFF_REL',\n",
              "       'RESPIRATORY_RATE_DIFF_REL', 'TEMPERATURE_DIFF_REL',\n",
              "       'OXYGEN_SATURATION_DIFF_REL'],\n",
              "      dtype='object', length=228)"
            ]
          },
          "metadata": {},
          "execution_count": 6
        }
      ]
    },
    {
      "cell_type": "markdown",
      "source": [
        "### Obtenção das variáveis categoricas"
      ],
      "metadata": {
        "id": "LDkxEaIzu9Fg"
      }
    },
    {
      "cell_type": "code",
      "source": [
        "s = (X_train.dtypes == 'object')\n",
        "object_cols = list(s[s].index)\n",
        "object_cols"
      ],
      "metadata": {
        "colab": {
          "base_uri": "https://localhost:8080/"
        },
        "id": "X8U4rWA6Hau3",
        "outputId": "c28891d0-a24e-42ad-f163-a81350059a8c"
      },
      "execution_count": 7,
      "outputs": [
        {
          "output_type": "execute_result",
          "data": {
            "text/plain": [
              "['AGE_PERCENTIL', 'WINDOW']"
            ]
          },
          "metadata": {},
          "execution_count": 7
        }
      ]
    },
    {
      "cell_type": "markdown",
      "source": [
        "### Criação do Pipeline para tratamento dos dados e completar os valores nulos"
      ],
      "metadata": {
        "id": "NsKXFqixvB9H"
      }
    },
    {
      "cell_type": "code",
      "source": [
        "numerical_transformer = SimpleImputer(strategy='most_frequent')\n",
        "categorical_transformer = Pipeline(steps=[\n",
        "    ('imputer', SimpleImputer(strategy='most_frequent')),\n",
        "    ('onehot', OneHotEncoder(handle_unknown='ignore'))\n",
        "])"
      ],
      "metadata": {
        "id": "KWAVnx70PAh0"
      },
      "execution_count": 8,
      "outputs": []
    },
    {
      "cell_type": "code",
      "source": [
        "preprocessor = ColumnTransformer(\n",
        "    transformers=[\n",
        "        ('num', numerical_transformer, num_cols),\n",
        "        ('cat', categorical_transformer, object_cols)\n",
        "    ])"
      ],
      "metadata": {
        "id": "oUeINIjEPKUT"
      },
      "execution_count": 9,
      "outputs": []
    },
    {
      "cell_type": "markdown",
      "source": [
        "## Treinamento do modelo"
      ],
      "metadata": {
        "id": "0NkOSKoWvZRc"
      }
    },
    {
      "cell_type": "code",
      "source": [
        "model = LogisticRegression(max_iter=1000, random_state=42)\n",
        "my_pipeline = Pipeline(steps=[('preprocessor', preprocessor),\n",
        "                              ('model', model)\n",
        "                             ])\n",
        "my_pipeline.fit(X_train, y_train)\n",
        "y_pred = my_pipeline.predict(X_train)"
      ],
      "metadata": {
        "id": "46CViu6ftQd9"
      },
      "execution_count": 10,
      "outputs": []
    },
    {
      "cell_type": "markdown",
      "source": [
        "### Metricas de comparação\n",
        "\n",
        "* Observamos uma alta acurácia na predição de teste de 96% o que poderia levar a concluir que o modelo está sofrendo de overfit.\n",
        "* A acurácia no dataset de validação se mostrou menor que no dataset de teste, porem ainda apresentou um acerto de aproximadamente 90%."
      ],
      "metadata": {
        "id": "OZSwXjNyvsY0"
      }
    },
    {
      "cell_type": "code",
      "source": [
        "score_train = accuracy_score(y_train, y_pred)\n",
        "y_pred_valid = my_pipeline.predict(X_valid)\n",
        "score_valid = accuracy_score(y_val, y_pred_valid)\n",
        "print(f\"Accuracy Train = {score_train:.4f}\")\n",
        "print(f\"Accuracy Val = {score_valid:.4f}\")"
      ],
      "metadata": {
        "id": "WIGnXEnAFwSZ",
        "colab": {
          "base_uri": "https://localhost:8080/"
        },
        "outputId": "5273c40e-4e28-47e3-b44f-ec423d3b2bdd"
      },
      "execution_count": 11,
      "outputs": [
        {
          "output_type": "stream",
          "name": "stdout",
          "text": [
            "Accuracy Train = 0.9643\n",
            "Accuracy Val = 0.8961\n"
          ]
        }
      ]
    },
    {
      "cell_type": "markdown",
      "source": [
        "### Plotagem da Matriz de Confusão para avaliarmos os Falsos positivos e Falsos negativos\n",
        "\n",
        "* No caso específico deste dataset, observamos que o caso mais crítico é quando o modelo prevê que um paciente não precisa ser internado erroneamente, no caso o Falso Negativo.\n",
        "* Não podemos deixar de lado a questão de sobrecarregar o sistema hospitalar com falsos negativos, sendo assim optamos por avaliar nosso modelo pela metrica F1 score/balanced F-score/F-measure."
      ],
      "metadata": {
        "id": "1EYUub2JxAMq"
      }
    },
    {
      "cell_type": "code",
      "source": [
        "cm = confusion_matrix(y_val, y_pred_valid)\n",
        "disp = ConfusionMatrixDisplay(confusion_matrix=cm)\n",
        "disp.plot()\n",
        "plt.show()"
      ],
      "metadata": {
        "colab": {
          "base_uri": "https://localhost:8080/",
          "height": 279
        },
        "id": "UUsbdjnwcMsx",
        "outputId": "4044e7e6-011d-40d4-c31d-ed5a02e8b73e"
      },
      "execution_count": 12,
      "outputs": [
        {
          "output_type": "display_data",
          "data": {
            "image/png": "[encoded data removed]",
            "text/plain": [
              "<Figure size 432x288 with 2 Axes>"
            ]
          },
          "metadata": {
            "needs_background": "light"
          }
        }
      ]
    },
    {
      "cell_type": "code",
      "source": [
        "print(classification_report(y_val, y_pred_valid))"
      ],
      "metadata": {
        "colab": {
          "base_uri": "https://localhost:8080/"
        },
        "id": "zJtwagoggxfO",
        "outputId": "864751ee-4e22-4c19-e677-e7d0abff3473"
      },
      "execution_count": 13,
      "outputs": [
        {
          "output_type": "stream",
          "name": "stdout",
          "text": [
            "              precision    recall  f1-score   support\n",
            "\n",
            "           0       0.92      0.87      0.89        38\n",
            "           1       0.88      0.92      0.90        39\n",
            "\n",
            "    accuracy                           0.90        77\n",
            "   macro avg       0.90      0.90      0.90        77\n",
            "weighted avg       0.90      0.90      0.90        77\n",
            "\n"
          ]
        }
      ]
    },
    {
      "cell_type": "markdown",
      "source": [
        "## Validação Cruzada\n",
        "\n",
        "Com o intuito de melhorar a credibilidade do modelo, adicionamos a validação cruzada."
      ],
      "metadata": {
        "id": "tvXzTg7izZkN"
      }
    },
    {
      "cell_type": "code",
      "source": [
        "def run_model(model):\n",
        "  \"\"\"\n",
        "  Função responsável por rodar diversos modelos com \n",
        "  o intuito de compara-los usando o Pipeline e Cross\n",
        "  Validation já definidos\n",
        "  \"\"\"\n",
        "  my_pipeline = Pipeline(steps=[('preprocessor', preprocessor),\n",
        "                              ('model', model)])\n",
        "  cv = StratifiedKFold(n_splits = 5,\n",
        "                       shuffle = True,\n",
        "                       random_state=42)\n",
        "  score_cross_val = cross_val_score(my_pipeline, X, y,\n",
        "                                cv=cv,\n",
        "                                scoring='f1')\n",
        "  # print(score_cross_val)\n",
        "  # print(score_cross_val.mean())\n",
        "  return score_cross_val.mean()"
      ],
      "metadata": {
        "id": "hhcxjZFK0SM7"
      },
      "execution_count": 14,
      "outputs": []
    },
    {
      "cell_type": "code",
      "source": [
        "rf = RandomForestClassifier(random_state=42)\n",
        "run_model(rf)"
      ],
      "metadata": {
        "colab": {
          "base_uri": "https://localhost:8080/"
        },
        "id": "UCLNqCWoW9fw",
        "outputId": "0be2b8ee-684b-4bc8-8232-5d7f34c3a065"
      },
      "execution_count": 15,
      "outputs": [
        {
          "output_type": "execute_result",
          "data": {
            "text/plain": [
              "0.9301149301149302"
            ]
          },
          "metadata": {},
          "execution_count": 15
        }
      ]
    },
    {
      "cell_type": "code",
      "source": [
        "lg = LogisticRegression(max_iter=1000,\n",
        "                        random_state=42)\n",
        "run_model(lg)"
      ],
      "metadata": {
        "colab": {
          "base_uri": "https://localhost:8080/"
        },
        "id": "3ul1FptXlweY",
        "outputId": "5e00cab8-1cba-4e99-ef7a-c97a71939ace"
      },
      "execution_count": 16,
      "outputs": [
        {
          "output_type": "execute_result",
          "data": {
            "text/plain": [
              "0.9101872810733571"
            ]
          },
          "metadata": {},
          "execution_count": 16
        }
      ]
    },
    {
      "cell_type": "code",
      "source": [
        "gnb = GaussianNB()\n",
        "run_model(gnb)"
      ],
      "metadata": {
        "colab": {
          "base_uri": "https://localhost:8080/"
        },
        "id": "q7WE2epYjl__",
        "outputId": "c5e6fd7a-1c20-424a-9c4f-798d9c3b0036"
      },
      "execution_count": 17,
      "outputs": [
        {
          "output_type": "execute_result",
          "data": {
            "text/plain": [
              "0.6622339573319842"
            ]
          },
          "metadata": {},
          "execution_count": 17
        }
      ]
    },
    {
      "cell_type": "code",
      "source": [
        "knn = neighbors.KNeighborsClassifier(n_neighbors=5)\n",
        "run_model(knn)"
      ],
      "metadata": {
        "id": "qtoq_Ra_3kWD",
        "outputId": "b4b704db-cd16-45d6-a8a0-11cd3283318e",
        "colab": {
          "base_uri": "https://localhost:8080/"
        }
      },
      "execution_count": 18,
      "outputs": [
        {
          "output_type": "execute_result",
          "data": {
            "text/plain": [
              "0.5079720451398951"
            ]
          },
          "metadata": {},
          "execution_count": 18
        }
      ]
    },
    {
      "cell_type": "markdown",
      "source": [
        "## Tuning dos dois melhores modelos"
      ],
      "metadata": {
        "id": "_p_lFKsL5C2g"
      }
    },
    {
      "cell_type": "markdown",
      "source": [
        "* Observamos que o modelo Random Forest e Logistic Regression apresentram os melhores valores para a métrica F1.\n",
        "* Vamos fazer alguns testes alterando os hyperparameter"
      ],
      "metadata": {
        "id": "J_r6PVs65Fp8"
      }
    },
    {
      "cell_type": "markdown",
      "source": [
        "Referência do código para verificação dos melhores paramentos\n",
        "* https://towardsdatascience.com/hyperparameter-tuning-the-random-forest-in-python-using-scikit-learn-28d2aa77dd74"
      ],
      "metadata": {
        "id": "YNgB233bFBAH"
      }
    },
    {
      "cell_type": "code",
      "source": [
        "from sklearn.model_selection import RandomizedSearchCV\n",
        "# Number of trees in random forest\n",
        "n_estimators = [int(x) for x in np.linspace(start = 200, stop = 2000, num = 10)]\n",
        "# Number of features to consider at every split\n",
        "max_features = ['auto', 'sqrt']\n",
        "# Maximum number of levels in tree\n",
        "max_depth = [int(x) for x in np.linspace(10, 110, num = 11)]\n",
        "max_depth.append(None)\n",
        "# Minimum number of samples required to split a node\n",
        "min_samples_split = [2, 5, 10]\n",
        "# Minimum number of samples required at each leaf node\n",
        "min_samples_leaf = [1, 2, 4]\n",
        "# Method of selecting samples for training each tree\n",
        "bootstrap = [True, False]\n",
        "# Create the random grid\n",
        "random_grid = {'n_estimators': n_estimators,\n",
        "               'max_features': max_features,\n",
        "               'max_depth': max_depth,\n",
        "               'min_samples_split': min_samples_split,\n",
        "               'min_samples_leaf': min_samples_leaf,\n",
        "               'bootstrap': bootstrap}\n",
        "print(random_grid)"
      ],
      "metadata": {
        "id": "ES3Jna1k6v9t",
        "outputId": "80206932-7a80-41b1-96be-d07a802a3911",
        "colab": {
          "base_uri": "https://localhost:8080/"
        }
      },
      "execution_count": 19,
      "outputs": [
        {
          "output_type": "stream",
          "name": "stdout",
          "text": [
            "{'n_estimators': [200, 400, 600, 800, 1000, 1200, 1400, 1600, 1800, 2000], 'max_features': ['auto', 'sqrt'], 'max_depth': [10, 20, 30, 40, 50, 60, 70, 80, 90, 100, 110, None], 'min_samples_split': [2, 5, 10], 'min_samples_leaf': [1, 2, 4], 'bootstrap': [True, False]}\n"
          ]
        }
      ]
    },
    {
      "cell_type": "code",
      "source": [
        "# Use the random grid to search for best hyperparameters\n",
        "# First create the base model to tune\n",
        "rf = RandomForestClassifier()\n",
        "# Random search of parameters, using 3 fold cross validation, \n",
        "# search across 100 different combinations, and use all available cores\n",
        "rf_random = RandomizedSearchCV(estimator = rf,\n",
        "                               param_distributions = random_grid,\n",
        "                               n_iter = 100,\n",
        "                               cv = 3,\n",
        "                               verbose=2,\n",
        "                               random_state=42,\n",
        "                               n_jobs = -1)\n",
        "\n",
        "my_pipeline = Pipeline(steps=[('preprocessor', preprocessor),\n",
        "                              ('model', rf_random)\n",
        "                             ])\n",
        "my_pipeline.fit(X_train, y_train)\n",
        "y_pred = my_pipeline.predict(X_train)\n",
        "score_train = accuracy_score(y_train, y_pred)\n",
        "y_pred_valid = my_pipeline.predict(X_valid)\n",
        "score_valid = accuracy_score(y_val, y_pred_valid)\n",
        "print(f\"Accuracy Train = {score_train:.4f}\")\n",
        "print(f\"Accuracy Val = {score_valid:.4f}\")"
      ],
      "metadata": {
        "id": "oCT4A0wx8Fw-",
        "outputId": "37f0b852-9f55-43a2-de0d-fd42ca922fde",
        "colab": {
          "base_uri": "https://localhost:8080/"
        }
      },
      "execution_count": 20,
      "outputs": [
        {
          "output_type": "stream",
          "name": "stdout",
          "text": [
            "Fitting 3 folds for each of 100 candidates, totalling 300 fits\n",
            "Accuracy Train = 0.9740\n",
            "Accuracy Val = 0.9221\n"
          ]
        }
      ]
    },
    {
      "cell_type": "code",
      "source": [
        "rf_random.best_params_"
      ],
      "metadata": {
        "id": "KC8CaN548XRi",
        "outputId": "208f4416-d027-4795-83af-49ea6ae0feea",
        "colab": {
          "base_uri": "https://localhost:8080/"
        }
      },
      "execution_count": 21,
      "outputs": [
        {
          "output_type": "execute_result",
          "data": {
            "text/plain": [
              "{'bootstrap': True,\n",
              " 'max_depth': 90,\n",
              " 'max_features': 'sqrt',\n",
              " 'min_samples_leaf': 4,\n",
              " 'min_samples_split': 10,\n",
              " 'n_estimators': 400}"
            ]
          },
          "metadata": {},
          "execution_count": 21
        }
      ]
    },
    {
      "cell_type": "markdown",
      "source": [
        "### Random Forest com tuning F1= 0.92"
      ],
      "metadata": {
        "id": "d8pqnMHoWyq1"
      }
    },
    {
      "cell_type": "code",
      "source": [
        "rf_best = RandomForestClassifier(bootstrap = True,\n",
        "                                 max_depth = 10,\n",
        "                                 max_features = 'auto',\n",
        "                                 min_samples_leaf = 4,\n",
        "                                 min_samples_split= 5,\n",
        "                                 n_estimators = 200)\n",
        "run_model(rf_best)"
      ],
      "metadata": {
        "id": "6OzTq8NQ-CPy",
        "outputId": "dc0c464a-4eef-403f-a692-cc05dd031e69",
        "colab": {
          "base_uri": "https://localhost:8080/"
        }
      },
      "execution_count": 22,
      "outputs": [
        {
          "output_type": "execute_result",
          "data": {
            "text/plain": [
              "0.925517709079353"
            ]
          },
          "metadata": {},
          "execution_count": 22
        }
      ]
    },
    {
      "cell_type": "markdown",
      "source": [
        "### Logistic Regression com tuning F1 = 0.91\n",
        "\n",
        "* No caso da Logistic Regression, testamos outras maneiras de tuning semelhante ao que fizemos com o Random Forest, porem o único parametro que afetou de forma positiva o score F1 foi o max_iter."
      ],
      "metadata": {
        "id": "OknXYMNkWo-n"
      }
    },
    {
      "cell_type": "code",
      "source": [
        "score = 0\n",
        "max_iter = 0\n",
        "for i in [1000,2500, 5000, 7500, 10000, 15000]:\n",
        "  lg = LogisticRegression(max_iter=i,\n",
        "                          random_state=42)\n",
        "  model_score = run_model(lg)\n",
        "  if model_score > score:\n",
        "    score = model_score\n",
        "    max_iter = i\n",
        "    \n",
        "print(f\"F1 = {score}, max_iter = {max_iter}\")"
      ],
      "metadata": {
        "id": "DKGPgwJ9KjCW",
        "outputId": "59d6aa29-fba1-4210-e0aa-527dc8e5a50c",
        "colab": {
          "base_uri": "https://localhost:8080/"
        }
      },
      "execution_count": 23,
      "outputs": [
        {
          "output_type": "stream",
          "name": "stdout",
          "text": [
            "F1 = 0.9101872810733571, max_iter = 1000\n"
          ]
        }
      ]
    },
    {
      "cell_type": "markdown",
      "source": [
        "## Conclusão"
      ],
      "metadata": {
        "id": "PvW0lqiKX1kz"
      }
    },
    {
      "cell_type": "markdown",
      "source": [
        "O modelo Random Forest Classifier apresentou a melhor métrica f1 após o tuning dos hyperparameters. \n",
        "Sendo assim, concluimos que o modelo Random Forest Classifier deve ser colocado em produção."
      ],
      "metadata": {
        "id": "bodE--k1X36O"
      }
    },
    {
      "cell_type": "code",
      "source": [
        ""
      ],
      "metadata": {
        "id": "gN_eR-M5Y0ae"
      },
      "execution_count": 23,
      "outputs": []
    }
  ]
}